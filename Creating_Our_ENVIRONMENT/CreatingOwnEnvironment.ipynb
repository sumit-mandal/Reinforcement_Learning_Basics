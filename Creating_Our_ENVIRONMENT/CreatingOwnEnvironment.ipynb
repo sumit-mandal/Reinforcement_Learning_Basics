{
 "cells": [
  {
   "cell_type": "code",
   "execution_count": 1,
   "id": "c2a6dcee-4b75-42c9-a126-2829c26e2a39",
   "metadata": {},
   "outputs": [],
   "source": [
    "import numpy as np\n",
    "from PIL import Image\n",
    "import cv2\n",
    "import matplotlib.pyplot as plt\n",
    "from matplotlib import style\n",
    "import pickle\n",
    "import time\n",
    "\n",
    "style.use('ggplot')"
   ]
  },
  {
   "cell_type": "markdown",
   "id": "b4c70737-c25e-42c9-a8cb-4ca59e259e03",
   "metadata": {},
   "source": [
    "`Next, we need to decide on an environment size. We're making a square grid here. As noted before, size will make a massive impact on our learning time.`\n",
    "\n",
    "`A 10x10 Q-Table for example, in this case, is ~15MB. A 20x20 is ~195MB`"
   ]
  },
  {
   "cell_type": "code",
   "execution_count": 2,
   "id": "f65325ba-084c-4543-b170-ca0ee2e7c51e",
   "metadata": {},
   "outputs": [],
   "source": [
    "SIZE = 10"
   ]
  },
  {
   "cell_type": "markdown",
   "id": "3b5273e0-ee5d-4c83-acf1-14ae95b33898",
   "metadata": {},
   "source": [
    "## Creating few other constants"
   ]
  },
  {
   "cell_type": "code",
   "execution_count": 3,
   "id": "f63aa8e9-a330-4035-8ae0-abd35b9965bf",
   "metadata": {},
   "outputs": [],
   "source": [
    "HM_EPISODES = 25000\n",
    "MOVE_PENALTY = 1\n",
    "ENEMY_PENALTY = 300\n",
    "FOOD_REWARD = 25\n",
    "\n",
    "epsilon = 0.9\n",
    "EPS_DECAY = 0.9998\n",
    "\n",
    "SHOW_EVERY = 3000 #how often do we want to show or how often to play through env visually.\n",
    "\n",
    "start_q_table = None # if we have a pickled Q table, we'll put the filename of it here.\n",
    "\n",
    "LEARNING_RATE = 0.1 #how quickly abandons current position in q-table for new value\n",
    "DISCOUNT = 0.95 #priority to future awards than present\n",
    "\n",
    "episode_rewards =  []\n",
    "\n",
    "PLAYER_N = 1\n",
    "FOOD_N = 2\n",
    "ENEMY_N = 3\n",
    "\n",
    "d = {1:(255,175,0), #player is blue\n",
    "     2:(0,255,0),#food is green\n",
    "     3:(0,0,255)} #Enemy is red\n",
    "\n",
    "\n",
    "\n",
    "\n",
    "\n"
   ]
  },
  {
   "cell_type": "markdown",
   "id": "64624fcb-c92c-486e-90af-f6aeda89a607",
   "metadata": {},
   "source": [
    "`Next this environment consists of blobs. These \"blobs\" are really just going to be squares, but, I am calling them blobs, alright?`"
   ]
  },
  {
   "cell_type": "code",
   "execution_count": 4,
   "id": "e1373232-af07-4578-8890-32a17ed2e4d4",
   "metadata": {},
   "outputs": [],
   "source": [
    "class Blob:\n",
    "    def __init__(self):\n",
    "        self.x = np.random.randint(0,SIZE)\n",
    "        self.y = np.random.randint(0,SIZE)\n",
    "        \"\"\"So, we'll begin by initializing the blobs randomly.\n",
    "        We could have the unfortunate environment where the enemy \n",
    "        and our blob, or the enemy and the food, are on the same \n",
    "        \"tile\" so to speak. Tough luck. For debugging purposes, \n",
    "        I wanted a string method:\"\"\"\n",
    "        \n",
    "    def __str__(self): #operator overloading\n",
    "        return f\"{self.x},{self.y}\"\n",
    "    \n",
    "    \"\"\"We need some sort of observation of our environment to use as our states.\n",
    "    I propose we simply pass the x and y deltas for the food and enemy to \n",
    "    our agent. To make this easy, I am going to override the - (subtraction)\n",
    "    operator, so we can just subtract two blobs from each other. \n",
    "    This method will look like:\"\"\"\n",
    "    \n",
    "    def __sub__(self,other): #operator overloading\n",
    "        return (self.x - other.x, self.y-other.y)\n",
    "    \n",
    "    \"\"\"Next, I'm going to add an \"action\" method, which will move based on \n",
    "    a \"discrete\" action being passed.\"\"\"\n",
    "    \n",
    "    def action(self,choice):\n",
    "        if choice == 0:\n",
    "            self.move(x=1,y=1)\n",
    "        elif choice == 1:\n",
    "            self.move(x=-1,y=-1)\n",
    "        elif choice ==2:\n",
    "            self.move(x=-1,y=1)\n",
    "        elif choice == 3:\n",
    "            self.move(x=1,y=-1)\n",
    "    \n",
    "    def move(self,x=False,y=False):\n",
    "        # If no value for x, move randomly\n",
    "        if not x:\n",
    "            self.x += np.random.randint(-1,2) #it will do -1,0 and 1\n",
    "        else:\n",
    "            self.x += x\n",
    "        # If no value for y, move randomly\n",
    "        if not y:\n",
    "            self.y += np.random.randint(-1, 2)\n",
    "        else:\n",
    "            self.y += y\n",
    "            \n",
    "         # If we are out of bounds, fix!\n",
    "        if self.x < 0:\n",
    "            self.x = 0\n",
    "        elif self.x > SIZE-1:\n",
    "            self.x = SIZE-1\n",
    "            \n",
    "        if self.y < 0:\n",
    "            self.y = 0\n",
    "        elif self.y > SIZE-1:\n",
    "            self.y = SIZE-1\n",
    "    \n",
    "    "
   ]
  },
  {
   "cell_type": "markdown",
   "id": "757a4c17-8263-4cd8-ab50-909abbf3d9b7",
   "metadata": {},
   "source": [
    "## Creating the q_table"
   ]
  },
  {
   "cell_type": "code",
   "execution_count": 5,
   "id": "0ebf0ead-9e13-42fa-a64c-49b7fb80fb10",
   "metadata": {},
   "outputs": [],
   "source": [
    "if start_q_table is None: #if we don't have start_q_table we create one\n",
    "    q_table = {}\n",
    "    \n",
    "    for x1 in range(-SIZE+1,SIZE):\n",
    "        for y1 in range(-SIZE+1,SIZE):\n",
    "            for x2 in range(-SIZE+1,SIZE):\n",
    "                for y2 in range(-SIZE+1,SIZE):\n",
    "                    q_table[((x1,y1),(x2,y2))]  = [np.random.uniform(-5,0) for i in range(4)]\n",
    "                    #key is tuples of tuples.\n",
    "                    #Each action space takes four random values. Because our action space is four\n",
    "                    \n",
    "else: #if we have q_table load old file\n",
    "    with open(start_q_table,\"rb\") as f:\n",
    "        q_table = pickle.load(f)\n",
    "        \n",
    "    \n",
    "#This isn't the most efficient code ever, but it should cover all \n",
    "#of our basis. Despite the table being pretty large for Q-Learning, \n",
    "#Python should still be able to make quick work of generating a table of this size."
   ]
  },
  {
   "cell_type": "code",
   "execution_count": 6,
   "id": "8f3880ff-c782-4442-adbd-1c33f94e23d7",
   "metadata": {},
   "outputs": [
    {
     "name": "stdout",
     "output_type": "stream",
     "text": [
      "[-4.534157943319912, -0.67998732647807, -4.89863640147671, -0.6213395758163278]\n"
     ]
    }
   ],
   "source": [
    "# For note, to look up on your Q-table, we would do something like:\n",
    "print(q_table[((-9, -2), (3,8))])"
   ]
  },
  {
   "cell_type": "markdown",
   "id": "aad189d1-b5e5-46fd-a6fa-b174757fcb8d",
   "metadata": {},
   "source": [
    "## start iterating over episodes!"
   ]
  },
  {
   "cell_type": "code",
   "execution_count": 7,
   "id": "d479fbb9-5306-4034-89c2-1e592daef714",
   "metadata": {},
   "outputs": [
    {
     "name": "stdout",
     "output_type": "stream",
     "text": [
      "on # 0 , epsilon:0.9\n",
      "3000 ep mean: nan\n"
     ]
    },
    {
     "name": "stderr",
     "output_type": "stream",
     "text": [
      "C:\\Users\\Sumit\\anaconda3\\envs\\tf1.5\\lib\\site-packages\\numpy\\core\\fromnumeric.py:3420: RuntimeWarning: Mean of empty slice.\n",
      "  out=out, **kwargs)\n",
      "C:\\Users\\Sumit\\anaconda3\\envs\\tf1.5\\lib\\site-packages\\numpy\\core\\_methods.py:188: RuntimeWarning: invalid value encountered in double_scalars\n",
      "  ret = ret.dtype.type(ret / rcount)\n"
     ]
    },
    {
     "name": "stdout",
     "output_type": "stream",
     "text": [
      "on # 3000 , epsilon:0.49390083359356435\n",
      "3000 ep mean: -172.94566666666665\n",
      "on # 6000 , epsilon:0.27104225936046566\n",
      "3000 ep mean: -114.33533333333334\n",
      "on # 9000 , epsilon:0.14874221981913022\n",
      "3000 ep mean: -82.29\n",
      "on # 12000 , epsilon:0.08162656262136181\n",
      "3000 ep mean: -70.165\n",
      "on # 15000 , epsilon:0.044794919246742226\n",
      "3000 ep mean: -60.254333333333335\n",
      "on # 18000 , epsilon:0.024582497729691496\n",
      "3000 ep mean: -46.942\n",
      "on # 21000 , epsilon:0.01349035124500733\n",
      "3000 ep mean: -40.226\n",
      "on # 24000 , epsilon:0.0074032174726434705\n",
      "3000 ep mean: -35.461\n"
     ]
    },
    {
     "data": {
      "image/png": "[encoded data removed]",
      "text/plain": [
       "<Figure size 432x288 with 1 Axes>"
      ]
     },
     "metadata": {},
     "output_type": "display_data"
    }
   ],
   "source": [
    "for episode in range(HM_EPISODES):\n",
    "    player = Blob()\n",
    "    food = Blob()\n",
    "    enemy = Blob()\n",
    "    \n",
    "    \"\"\"We will start tracking the episode rewards and their \n",
    "    improvements over time with episode_rewards. For each new episode, \n",
    "    we re-initialize the player, food, and enemy objects\"\"\"\n",
    "    \n",
    "    if episode % SHOW_EVERY == 0:\n",
    "        print(f\"on # {episode} , epsilon:{epsilon}\")\n",
    "        print(f\"{SHOW_EVERY} ep mean: {np.mean(episode_rewards[-SHOW_EVERY:])}\")\n",
    "        show = True\n",
    "    else:\n",
    "        show = False\n",
    "        \n",
    "    # Now we start the actual frames/steps of the episode:\n",
    "    episode_reward = 0\n",
    "    for i in range(200):\n",
    "        obs = (player-food,player-enemy)\n",
    "        if np.random.random() > epsilon:\n",
    "            action = np.argmax(q_table[obs]) # macimum value of observation\n",
    "        else: \n",
    "            action = np.random.randint(0,4)\n",
    "            \n",
    "        # Take the action!\n",
    "        player.action(action) #we take the action based on past moves\n",
    "        \n",
    "        \n",
    "        #Codinng for reward purpose\n",
    "        if player.x == enemy.x and player.y == enemy.y:\n",
    "            reward = -ENEMY_PENALTY\n",
    "            \n",
    "        elif player.x == food.x and player.y == food.y:\n",
    "            reward = FOOD_REWARD\n",
    "        \n",
    "        else: \n",
    "            reward = -MOVE_PENALTY\n",
    "            \n",
    "        #work up our Q-table and Q-value information:\n",
    "        ## NOW WE KNOW THE REWARD, LET'S CALC YO\n",
    "        # first we need to obs immediately after the move.\n",
    "        new_obs = (player-food,player-enemy) #new observation\n",
    "        max_future_q = np.max(q_table[new_obs]) #max Q value for this new obs\n",
    "        current_q = q_table[obs][action] # current Q for our chosen action\n",
    "        \n",
    "        \n",
    "        #With these values, we can do our calculations:\n",
    "        if reward == FOOD_REWARD:\n",
    "            new_q = FOOD_REWARD\n",
    "        elif reward == -ENEMY_PENALTY:\n",
    "            new_q = - ENEMY_PENALTY\n",
    "        else:\n",
    "            new_q = (1- LEARNING_RATE) * current_q + LEARNING_RATE * (reward + DISCOUNT * max_future_q)\n",
    "            \n",
    "        #updating the q_table\n",
    "        \n",
    "        q_table[obs][action] = new_q\n",
    "        \n",
    "        #Showing the environment\n",
    "        if show:\n",
    "            env = np.zeros((SIZE,SIZE,3),dtype=np.uint8) #((0,256),(0,256),3)  #starts an rbg of our size #it will be all black environment inintally\n",
    "            env[food.y][food.x] = d[FOOD_N] ## sets the food location tile to green color\n",
    "            env[player.y][player.x] = d[PLAYER_N]  # sets the player tile to blue\n",
    "            env[enemy.y][enemy.x] = d[ENEMY_N]  # sets the enemy location to red\n",
    "            \n",
    "            img = Image.fromarray(env,\"RGB\") ## reading to rgb. Apparently. Even tho color definitions are bgr. ???\n",
    "            img = img.resize((300,300)) #resizing so we can see our agent in all its glory.\n",
    "            cv2.imshow(\"\",np.array(img)) #show it\n",
    "            \n",
    "            if reward == FOOD_REWARD or reward == -ENEMY_PENALTY :# if player gets food or touches enemy\n",
    "                if cv2.waitKey(500) & 0xFF == ord(\"q\"): #wait for 500ms or press q\n",
    "                    break\n",
    "                    \n",
    "            else:\n",
    "                if cv2.waitKey(1) & 0xFF == ord(\"q\"): #wait for 1 ms\n",
    "                    break\n",
    "                    \n",
    "        episode_reward += reward\n",
    "        if reward == FOOD_REWARD or reward == -ENEMY_PENALTY:\n",
    "            break\n",
    "                \n",
    "    episode_rewards.append(episode_reward)\n",
    "    epsilon *= EPS_DECAY\n",
    "\n",
    "moving_avg = np.convolve(episode_rewards, np.ones((SHOW_EVERY,))/SHOW_EVERY, mode='valid')\n",
    "\n",
    "plt.plot([i for i in range(len(moving_avg))], moving_avg)\n",
    "plt.ylabel(f\"Reward {SHOW_EVERY}moving average\")\n",
    "plt.xlabel(\"episode #\")\n",
    "plt.show()\n",
    "    \n",
    "\n",
    "with open(f\"qtable-{int(time.time())}.pickle\", \"wb\") as f:\n",
    "    pickle.dump(q_table, f)\n",
    "\n",
    "\n",
    "\n",
    "            \n",
    "        \n",
    "        \n",
    "        \n",
    "        \n",
    "            \n",
    "    "
   ]
  },
  {
   "cell_type": "code",
   "execution_count": null,
   "id": "6b60dd50-c286-4f06-976c-78b764afd63d",
   "metadata": {},
   "outputs": [],
   "source": [
    "! git add CreatingOwnEnvironment.ipynb qtable-1622223713.pickle qtable-1622223974.pickle\n",
    "! git commit -m \"When training the model\"\n",
    "! git push origin main"
   ]
  },
  {
   "cell_type": "code",
   "execution_count": null,
   "id": "74f4bc73-635e-4e13-bc5a-84b65695001f",
   "metadata": {},
   "outputs": [],
   "source": []
  },
  {
   "cell_type": "code",
   "execution_count": null,
   "id": "260f33ce-9399-44f8-bbe7-e544470c773c",
   "metadata": {},
   "outputs": [],
   "source": []
  }
 ],
 "metadata": {
  "kernelspec": {
   "display_name": "Python [conda env:tf1.5]",
   "language": "python",
   "name": "conda-env-tf1.5-py"
  },
  "language_info": {
   "codemirror_mode": {
    "name": "ipython",
    "version": 3
   },
   "file_extension": ".py",
   "mimetype": "text/x-python",
   "name": "python",
   "nbconvert_exporter": "python",
   "pygments_lexer": "ipython3",
   "version": "3.7.10"
  }
 },
 "nbformat": 4,
 "nbformat_minor": 5
}
